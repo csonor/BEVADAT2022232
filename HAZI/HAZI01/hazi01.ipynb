{
 "cells": [
  {
   "cell_type": "code",
   "execution_count": null,
   "metadata": {},
   "outputs": [],
   "source": [
    "# Create a function that returns with a subsest of a list.\n",
    "# The subset's starting and ending indexes should be set as input parameters (the list aswell).\n",
    "# return type: list\n",
    "# function name must be: subset\n",
    "# input parameters: input_list,start_index,end_index\n"
   ]
  },
  {
   "cell_type": "code",
   "execution_count": 2,
   "metadata": {},
   "outputs": [
    {
     "data": {
      "text/plain": [
       "[2, 3, 4]"
      ]
     },
     "execution_count": 2,
     "metadata": {},
     "output_type": "execute_result"
    }
   ],
   "source": [
    "def subset(input_list, start_index, end_index):\n",
    "    return input_list[start_index:end_index + 1]\n",
    "\n",
    "\n",
    "print(subset([1, 2, 3, 4, 5], 1, 3))\n"
   ]
  },
  {
   "cell_type": "code",
   "execution_count": null,
   "metadata": {},
   "outputs": [],
   "source": [
    "# Create a function that returns every nth element of a list.\n",
    "# return type: list\n",
    "# function name must be: every_nth\n",
    "# input parameters: input_list,step_size\n"
   ]
  },
  {
   "cell_type": "code",
   "execution_count": 5,
   "metadata": {},
   "outputs": [
    {
     "data": {
      "text/plain": [
       "[1, 4, 7]"
      ]
     },
     "execution_count": 5,
     "metadata": {},
     "output_type": "execute_result"
    }
   ],
   "source": [
    "def every_nth(input_list, step_size):\n",
    "    return input_list[::step_size]\n",
    "\n",
    "\n",
    "print(every_nth([1, 2, 3, 4, 5, 6, 7, 8, 9], 3))\n"
   ]
  },
  {
   "cell_type": "code",
   "execution_count": null,
   "metadata": {},
   "outputs": [],
   "source": [
    "# Create a function that can decide whether a list contains unique values or not\n",
    "# return type: bool\n",
    "# function name must be: unique\n",
    "# input parameters: input_list\n"
   ]
  },
  {
   "cell_type": "code",
   "execution_count": 8,
   "metadata": {},
   "outputs": [
    {
     "name": "stdout",
     "output_type": "stream",
     "text": [
      "False\n"
     ]
    }
   ],
   "source": [
    "def unique(input_list):\n",
    "    return len(set(input_list)) == len(input_list)\n",
    "\n",
    "\n",
    "print(unique([1, 2, 3, 4, 5, 5, 6, 7, 8, 9]))\n"
   ]
  },
  {
   "cell_type": "code",
   "execution_count": null,
   "metadata": {},
   "outputs": [],
   "source": [
    "# Create a function that can flatten a nested list ([[..],[..],..])\n",
    "# return type: list\n",
    "# fucntion name must be: flatten\n",
    "# input parameters: input_list\n"
   ]
  },
  {
   "cell_type": "code",
   "execution_count": 14,
   "metadata": {},
   "outputs": [
    {
     "name": "stdout",
     "output_type": "stream",
     "text": [
      "[1, 2, 3, 4, 5, 6, 7, 8, 9, 10, 11, 12, 13, 14, 15, 16]\n"
     ]
    }
   ],
   "source": [
    "def flatten(input_list):\n",
    "    result = []\n",
    "    for item in input_list:\n",
    "        if isinstance(item, list):\n",
    "            result.extend(flatten(item))\n",
    "        else:\n",
    "            result.append(item)\n",
    "    return result\n",
    "\n",
    "\n",
    "print(\n",
    "    flatten([[1, 2], [3, [4, 5, [6], 7, [8, 9, [10, 11]], 12, 13], 14], 15, 16]))\n"
   ]
  },
  {
   "cell_type": "code",
   "execution_count": null,
   "metadata": {},
   "outputs": [],
   "source": [
    "# Create a function that concatenates n lists\n",
    "# return type: list\n",
    "# function name must be: merge_lists\n",
    "# input parameters: *args\n"
   ]
  },
  {
   "cell_type": "code",
   "execution_count": 2,
   "metadata": {},
   "outputs": [
    {
     "data": {
      "text/plain": [
       "[1, 2, 3, 4, 5, 6]"
      ]
     },
     "execution_count": 2,
     "metadata": {},
     "output_type": "execute_result"
    }
   ],
   "source": [
    "def merge_lists(*args):\n",
    "    result = []\n",
    "    for arg in args:\n",
    "        result.extend(arg)\n",
    "    return result\n",
    "\n",
    "\n",
    "print(merge_lists([1, 2], [3], [4, 5, 6]))\n"
   ]
  },
  {
   "cell_type": "code",
   "execution_count": null,
   "metadata": {},
   "outputs": [],
   "source": [
    "# Create a function that can reverse a list of tuples\n",
    "# example [(1,2),...] => [(2,1),...]\n",
    "# return type: list\n",
    "# fucntion name must be: reverse_tuples\n",
    "# input parameters: input_list\n"
   ]
  },
  {
   "cell_type": "code",
   "execution_count": 3,
   "metadata": {},
   "outputs": [
    {
     "name": "stdout",
     "output_type": "stream",
     "text": [
      "[(3, 2, 1), (6, 5, 4), (9, 8, 7)]\n"
     ]
    }
   ],
   "source": [
    "def reverse_tuples(input_list):\n",
    "    result = []\n",
    "    for tpl in input_list:\n",
    "        result.append(tuple(reversed(tpl)))\n",
    "    return result\n",
    "\n",
    "\n",
    "print(reverse_tuples([(1, 2, 3), (4, 5, 6), (7, 8, 9)]))\n"
   ]
  },
  {
   "cell_type": "code",
   "execution_count": null,
   "metadata": {},
   "outputs": [],
   "source": [
    "# Create a function that removes duplicates from a list\n",
    "# return type: list\n",
    "# fucntion name must be: remove_tuplicates\n",
    "# input parameters: input_list\n"
   ]
  },
  {
   "cell_type": "code",
   "execution_count": 5,
   "metadata": {},
   "outputs": [
    {
     "name": "stdout",
     "output_type": "stream",
     "text": [
      "[1, 2, 3, 4, 5, 6, 7, 8, 9]\n"
     ]
    }
   ],
   "source": [
    "def remove_duplicates(input_list):\n",
    "    return list(set(input_list))\n",
    "\n",
    "\n",
    "print(remove_duplicates([1, 2, 3, 3, 4, 5, 5, 6, 7, 7, 7, 8, 8, 9]))\n"
   ]
  },
  {
   "cell_type": "code",
   "execution_count": null,
   "metadata": {},
   "outputs": [],
   "source": [
    "# Create a function that transposes a nested list (matrix)\n",
    "# return type: list\n",
    "# function name must be: transpose\n",
    "# input parameters: input_list\n"
   ]
  },
  {
   "cell_type": "code",
   "execution_count": 10,
   "metadata": {},
   "outputs": [
    {
     "name": "stdout",
     "output_type": "stream",
     "text": [
      "[[1, 4, 7], [2, 5, 8], [3, 6, 9]]\n"
     ]
    }
   ],
   "source": [
    "def transpose(input_list):\n",
    "    return [[row[i] for row in input_list] for i in range(len(input_list[0]))]\n",
    "\n",
    "\n",
    "print(transpose([[1, 2, 3], [4, 5, 6], [7, 8, 9]]))\n"
   ]
  },
  {
   "cell_type": "code",
   "execution_count": null,
   "metadata": {},
   "outputs": [],
   "source": [
    "# Create a function that can split a nested list into chunks\n",
    "# chunk size is given by parameter\n",
    "# return type: list\n",
    "# function name must be: split_into_chunks\n",
    "# input parameters: input_list,chunk_size\n"
   ]
  },
  {
   "cell_type": "code",
   "execution_count": 15,
   "metadata": {},
   "outputs": [
    {
     "name": "stdout",
     "output_type": "stream",
     "text": [
      "[[[1, 2], [3, 4, 5]], [[6], [7, 8, 9, 10]], [[11, 12, 13], [14, 15]]]\n"
     ]
    }
   ],
   "source": [
    "def split_into_chunks(input_list, chunk_size):\n",
    "    result = []\n",
    "    for i in range(0, len(input_list), chunk_size):\n",
    "        result.append(input_list[i:i+chunk_size])\n",
    "    return result\n",
    "\n",
    "\n",
    "print(split_into_chunks([[1, 2], [3, 4, 5], [6], [7, 8, 9, 10], [11, 12, 13], [14, 15]], 2))\n"
   ]
  },
  {
   "cell_type": "code",
   "execution_count": null,
   "metadata": {},
   "outputs": [],
   "source": [
    "# Create a function that can merge n dictionaries\n",
    "# return type: dictionary\n",
    "# function name must be: merge_dicts\n",
    "# input parameters: *dict\n"
   ]
  },
  {
   "cell_type": "code",
   "execution_count": null,
   "metadata": {},
   "outputs": [],
   "source": []
  },
  {
   "cell_type": "code",
   "execution_count": null,
   "metadata": {},
   "outputs": [],
   "source": [
    "# Create a function that receives a list of integers and sort them by parity\n",
    "# and returns with a dictionary like this: {\"even\":[...],\"odd\":[...]}\n",
    "# return type: dict\n",
    "# function name must be: by_parity\n",
    "# input parameters: input_list\n"
   ]
  },
  {
   "cell_type": "code",
   "execution_count": null,
   "metadata": {},
   "outputs": [],
   "source": []
  },
  {
   "cell_type": "code",
   "execution_count": null,
   "metadata": {},
   "outputs": [],
   "source": [
    "# Create a function that receives a dictionary like this: {\"some_key\":[1,2,3,4],\"another_key\":[1,2,3,4],....}\n",
    "# and return a dictionary like this : {\"some_key\":mean_of_values,\"another_key\":mean_of_values,....}\n",
    "# in short calculates the mean of the values key wise\n",
    "# return type: dict\n",
    "# function name must be: mean_key_value\n",
    "# input parameters: input_dict\n"
   ]
  },
  {
   "cell_type": "code",
   "execution_count": null,
   "metadata": {},
   "outputs": [],
   "source": []
  },
  {
   "cell_type": "code",
   "execution_count": null,
   "metadata": {},
   "outputs": [],
   "source": [
    "# If all the functions are created convert this notebook into a .py file and push to your repo\n"
   ]
  }
 ],
 "metadata": {
  "kernelspec": {
   "display_name": "Python 3",
   "language": "python",
   "name": "python3"
  },
  "language_info": {
   "codemirror_mode": {
    "name": "ipython",
    "version": 3
   },
   "file_extension": ".py",
   "mimetype": "text/x-python",
   "name": "python",
   "nbconvert_exporter": "python",
   "pygments_lexer": "ipython3",
   "version": "3.10.10"
  },
  "orig_nbformat": 4,
  "vscode": {
   "interpreter": {
    "hash": "d4d26355cb3083ba361bc12c246e2833fdf452382b383e38600de31ff4286a05"
   }
  }
 },
 "nbformat": 4,
 "nbformat_minor": 2
}
