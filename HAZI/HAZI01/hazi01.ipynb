{
 "cells": [
  {
   "cell_type": "code",
   "execution_count": null,
   "metadata": {},
   "outputs": [],
   "source": [
    "# Create a function that returns with a subsest of a list.\n",
    "# The subset's starting and ending indexes should be set as input parameters (the list aswell).\n",
    "# return type: list\n",
    "# function name must be: subset\n",
    "# input parameters: input_list,start_index,end_index\n"
   ]
  },
  {
   "cell_type": "code",
   "execution_count": 2,
   "metadata": {},
   "outputs": [
    {
     "data": {
      "text/plain": [
       "[2, 3, 4]"
      ]
     },
     "execution_count": 2,
     "metadata": {},
     "output_type": "execute_result"
    }
   ],
   "source": [
    "def subset(input_list, start_index, end_index):\n",
    "    return input_list[start_index:end_index + 1]\n",
    "\n",
    "\n",
    "print(subset([1, 2, 3, 4, 5], 1, 3))\n"
   ]
  },
  {
   "cell_type": "code",
   "execution_count": null,
   "metadata": {},
   "outputs": [],
   "source": [
    "# Create a function that returns every nth element of a list.\n",
    "# return type: list\n",
    "# function name must be: every_nth\n",
    "# input parameters: input_list,step_size\n"
   ]
  },
  {
   "cell_type": "code",
   "execution_count": 1,
   "metadata": {},
   "outputs": [
    {
     "name": "stdout",
     "output_type": "stream",
     "text": [
      "[1, 4, 7]\n"
     ]
    }
   ],
   "source": [
    "def every_nth(input_list, step_size):\n",
    "    return input_list[::step_size]\n",
    "\n",
    "\n",
    "print(every_nth([1, 2, 3, 4, 5, 6, 7, 8, 9], 3))\n"
   ]
  },
  {
   "cell_type": "code",
   "execution_count": null,
   "metadata": {},
   "outputs": [],
   "source": [
    "# Create a function that can decide whether a list contains unique values or not\n",
    "# return type: bool\n",
    "# function name must be: unique\n",
    "# input parameters: input_list\n"
   ]
  },
  {
   "cell_type": "code",
   "execution_count": 8,
   "metadata": {},
   "outputs": [
    {
     "name": "stdout",
     "output_type": "stream",
     "text": [
      "False\n"
     ]
    }
   ],
   "source": [
    "def unique(input_list):\n",
    "    return len(set(input_list)) == len(input_list)\n",
    "\n",
    "\n",
    "print(unique([1, 2, 3, 4, 5, 5, 6, 7, 8, 9]))\n"
   ]
  },
  {
   "cell_type": "code",
   "execution_count": null,
   "metadata": {},
   "outputs": [],
   "source": [
    "# Create a function that can flatten a nested list ([[..],[..],..])\n",
    "# return type: list\n",
    "# fucntion name must be: flatten\n",
    "# input parameters: input_list\n"
   ]
  },
  {
   "cell_type": "code",
   "execution_count": 14,
   "metadata": {},
   "outputs": [
    {
     "name": "stdout",
     "output_type": "stream",
     "text": [
      "[1, 2, 3, 4, 5, 6, 7, 8, 9, 10, 11, 12, 13, 14, 15, 16]\n"
     ]
    }
   ],
   "source": [
    "def flatten(input_list):\n",
    "    result = []\n",
    "    for item in input_list:\n",
    "        if isinstance(item, list):\n",
    "            result.extend(flatten(item))\n",
    "        else:\n",
    "            result.append(item)\n",
    "    return result\n",
    "\n",
    "\n",
    "print(\n",
    "    flatten([[1, 2], [3, [4, 5, [6], 7, [8, 9, [10, 11]], 12, 13], 14], 15, 16]))\n"
   ]
  },
  {
   "cell_type": "code",
   "execution_count": null,
   "metadata": {},
   "outputs": [],
   "source": [
    "# Create a function that concatenates n lists\n",
    "# return type: list\n",
    "# function name must be: merge_lists\n",
    "# input parameters: *args\n"
   ]
  },
  {
   "cell_type": "code",
   "execution_count": 2,
   "metadata": {},
   "outputs": [
    {
     "data": {
      "text/plain": [
       "[1, 2, 3, 4, 5, 6]"
      ]
     },
     "execution_count": 2,
     "metadata": {},
     "output_type": "execute_result"
    }
   ],
   "source": [
    "def merge_lists(*args):\n",
    "    result = []\n",
    "    for arg in args:\n",
    "        result.extend(arg)\n",
    "    return result\n",
    "\n",
    "\n",
    "print(merge_lists([1, 2], [3], [4, 5, 6]))\n"
   ]
  },
  {
   "cell_type": "code",
   "execution_count": null,
   "metadata": {},
   "outputs": [],
   "source": [
    "# Create a function that can reverse a list of tuples\n",
    "# example [(1,2),...] => [(2,1),...]\n",
    "# return type: list\n",
    "# fucntion name must be: reverse_tuples\n",
    "# input parameters: input_list\n"
   ]
  },
  {
   "cell_type": "code",
   "execution_count": 3,
   "metadata": {},
   "outputs": [
    {
     "name": "stdout",
     "output_type": "stream",
     "text": [
      "[(3, 2, 1), (6, 5, 4), (9, 8, 7)]\n"
     ]
    }
   ],
   "source": [
    "def reverse_tuples(input_list):\n",
    "    result = []\n",
    "    for tpl in input_list:\n",
    "        result.append(tuple(reversed(tpl)))\n",
    "    return result\n",
    "\n",
    "\n",
    "print(reverse_tuples([(1, 2, 3), (4, 5, 6), (7, 8, 9)]))\n"
   ]
  },
  {
   "cell_type": "code",
   "execution_count": null,
   "metadata": {},
   "outputs": [],
   "source": [
    "# Create a function that removes duplicates from a list\n",
    "# return type: list\n",
    "# fucntion name must be: remove_tuplicates\n",
    "# input parameters: input_list\n"
   ]
  },
  {
   "cell_type": "code",
   "execution_count": 5,
   "metadata": {},
   "outputs": [
    {
     "name": "stdout",
     "output_type": "stream",
     "text": [
      "[1, 2, 3, 4, 5, 6, 7, 8, 9]\n"
     ]
    }
   ],
   "source": [
    "def remove_duplicates(input_list):\n",
    "    return list(set(input_list))\n",
    "\n",
    "\n",
    "print(remove_duplicates([1, 2, 3, 3, 4, 5, 5, 6, 7, 7, 7, 8, 8, 9]))\n"
   ]
  },
  {
   "cell_type": "code",
   "execution_count": null,
   "metadata": {},
   "outputs": [],
   "source": [
    "# Create a function that transposes a nested list (matrix)\n",
    "# return type: list\n",
    "# function name must be: transpose\n",
    "# input parameters: input_list\n"
   ]
  },
  {
   "cell_type": "code",
   "execution_count": 10,
   "metadata": {},
   "outputs": [
    {
     "name": "stdout",
     "output_type": "stream",
     "text": [
      "[[1, 4, 7], [2, 5, 8], [3, 6, 9]]\n"
     ]
    }
   ],
   "source": [
    "def transpose(input_list):\n",
    "    return [[row[i] for row in input_list] for i in range(len(input_list[0]))]\n",
    "\n",
    "\n",
    "print(transpose([[1, 2, 3], [4, 5, 6], [7, 8, 9]]))\n"
   ]
  },
  {
   "cell_type": "code",
   "execution_count": null,
   "metadata": {},
   "outputs": [],
   "source": [
    "# Create a function that can split a nested list into chunks\n",
    "# chunk size is given by parameter\n",
    "# return type: list\n",
    "# function name must be: split_into_chunks\n",
    "# input parameters: input_list,chunk_size\n"
   ]
  },
  {
   "cell_type": "code",
   "execution_count": 4,
   "metadata": {},
   "outputs": [
    {
     "name": "stdout",
     "output_type": "stream",
     "text": [
      "[[1, 2, 3], [4, 5, 6], [7, 8]]\n"
     ]
    }
   ],
   "source": [
    "def split_into_chunks(input_list, chunk_size):\n",
    "    return [input_list[i:i + chunk_size] for i in range(0, len(input_list), chunk_size)]\n",
    "\n",
    "\n",
    "print(split_into_chunks([1, 2, 3, 4, 5, 6, 7, 8], 3))\n"
   ]
  },
  {
   "cell_type": "code",
   "execution_count": null,
   "metadata": {},
   "outputs": [],
   "source": [
    "# Create a function that can merge n dictionaries\n",
    "# return type: dictionary\n",
    "# function name must be: merge_dicts\n",
    "# input parameters: *dict\n"
   ]
  },
  {
   "cell_type": "code",
   "execution_count": 16,
   "metadata": {},
   "outputs": [
    {
     "name": "stdout",
     "output_type": "stream",
     "text": [
      "{1: 'A', 2: 'B', 3: 'C', 4: 'D', 5: 'E', 6: 'F', 7: 'G', 8: 'H', 9: 'I', 10: 'J'}\n"
     ]
    }
   ],
   "source": [
    "def merge_dicts(*dict):\n",
    "    result = {}\n",
    "    for d in dict:\n",
    "        result.update(d)\n",
    "    return result\n",
    "\n",
    "\n",
    "print(merge_dicts({1: 'A', 2: 'B'}, {3: 'C', 4: 'D', 5: 'E'}, {\n",
    "      6: 'F', 7: 'G', 8: 'H', 9: 'I'}, {10: 'J'}))\n"
   ]
  },
  {
   "cell_type": "code",
   "execution_count": null,
   "metadata": {},
   "outputs": [],
   "source": [
    "# Create a function that receives a list of integers and sort them by parity\n",
    "# and returns with a dictionary like this: {\"even\":[...],\"odd\":[...]}\n",
    "# return type: dict\n",
    "# function name must be: by_parity\n",
    "# input parameters: input_list\n"
   ]
  },
  {
   "cell_type": "code",
   "execution_count": 17,
   "metadata": {},
   "outputs": [
    {
     "name": "stdout",
     "output_type": "stream",
     "text": [
      "{'even': [2, 4, 6, 8, 10, 12, 14, 16], 'odd': [1, 3, 5, 7, 9, 11, 13, 15]}\n"
     ]
    }
   ],
   "source": [
    "def by_parity(input_list):\n",
    "    result = {\"even\": [], \"odd\": []}\n",
    "    for num in input_list:\n",
    "        if num % 2 == 0:\n",
    "            result[\"even\"].append(num)\n",
    "        else:\n",
    "            result[\"odd\"].append(num)\n",
    "    return result\n",
    "\n",
    "\n",
    "print(by_parity([1, 2, 3, 4, 5, 6, 7, 8, 9, 10, 11, 12, 13, 14, 15, 16]))\n"
   ]
  },
  {
   "cell_type": "code",
   "execution_count": null,
   "metadata": {},
   "outputs": [],
   "source": [
    "# Create a function that receives a dictionary like this: {\"some_key\":[1,2,3,4],\"another_key\":[1,2,3,4],....}\n",
    "# and return a dictionary like this : {\"some_key\":mean_of_values,\"another_key\":mean_of_values,....}\n",
    "# in short calculates the mean of the values key wise\n",
    "# return type: dict\n",
    "# function name must be: mean_key_value\n",
    "# input parameters: input_dict\n"
   ]
  },
  {
   "cell_type": "code",
   "execution_count": 18,
   "metadata": {},
   "outputs": [
    {
     "name": "stdout",
     "output_type": "stream",
     "text": [
      "{'asd': 2.0, 'lol': 7.0}\n"
     ]
    }
   ],
   "source": [
    "def mean_key_value(input_dict):\n",
    "    result = {}\n",
    "    for key, values in input_dict.items():\n",
    "        mean = sum(values) / len(values)\n",
    "        result[key] = mean\n",
    "    return result\n",
    "\n",
    "\n",
    "print(mean_key_value({\"asd\": [0, 1, 2, 3, 4], \"lol\": [5, 6, 7, 8, 9]}))\n"
   ]
  },
  {
   "cell_type": "code",
   "execution_count": null,
   "metadata": {},
   "outputs": [],
   "source": [
    "# If all the functions are created convert this notebook into a .py file and push to your repo\n"
   ]
  }
 ],
 "metadata": {
  "kernelspec": {
   "display_name": "Python 3",
   "language": "python",
   "name": "python3"
  },
  "language_info": {
   "codemirror_mode": {
    "name": "ipython",
    "version": 3
   },
   "file_extension": ".py",
   "mimetype": "text/x-python",
   "name": "python",
   "nbconvert_exporter": "python",
   "pygments_lexer": "ipython3",
   "version": "3.10.10"
  },
  "orig_nbformat": 4,
  "vscode": {
   "interpreter": {
    "hash": "d4d26355cb3083ba361bc12c246e2833fdf452382b383e38600de31ff4286a05"
   }
  }
 },
 "nbformat": 4,
 "nbformat_minor": 2
}
