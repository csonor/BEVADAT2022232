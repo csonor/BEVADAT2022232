{
 "cells": [
  {
   "cell_type": "code",
   "execution_count": 2,
   "metadata": {},
   "outputs": [],
   "source": [
    "import numpy as np"
   ]
  },
  {
   "cell_type": "code",
   "execution_count": null,
   "metadata": {},
   "outputs": [],
   "source": [
    "#FONTOS!!!\n",
    "\n",
    "# CSAK OTT LEHET HASZNÁLNI FOR LOOP-OT AHOL A FELADAT KÜLÖN KÉRI!\n",
    "# [1,2,3,4] --> ezek az értékek np.array-ek. Ahol listát kérek paraméterként ott külön ki fogom emelni!\n",
    "# Ha végeztél a feladatokkal, akkor notebook-ot alakítsd át .py.\n",
    "# A FÁJLBAN CSAK A FÜGGVÉNYEK LEGYENEK! (KOMMENTEK MARADHATNAK)"
   ]
  },
  {
   "cell_type": "code",
   "execution_count": null,
   "metadata": {},
   "outputs": [],
   "source": [
    "# Írj egy olyan fügvényt, ami megfordítja egy 2d array oszlopait. Bemenetként egy array-t vár.\n",
    "# Be: [[1,2],[3,4]]\n",
    "# Ki: [[2,1],[4,3]]\n",
    "# column_swap()"
   ]
  },
  {
   "cell_type": "code",
   "execution_count": null,
   "metadata": {},
   "outputs": [],
   "source": [
    "def column_swap(arr: np.array) -> np.array:\n",
    "    return np.flip(arr, axis=1)\n",
    "\n",
    "\n",
    "column_swap([[1, 2], [3, 4]])\n"
   ]
  },
  {
   "cell_type": "code",
   "execution_count": null,
   "metadata": {},
   "outputs": [],
   "source": [
    "# Készíts egy olyan függvényt ami összehasonlít két array-t és adjon vissza egy array-ben, hogy hol egyenlőek \n",
    "# Pl Be: [7,8,9], [9,8,7] \n",
    "# Ki: [1]\n",
    "# compare_two_array()\n",
    "# egyenlő elemszámúakra kell csak hogy működjön"
   ]
  },
  {
   "cell_type": "code",
   "execution_count": 7,
   "metadata": {},
   "outputs": [
    {
     "data": {
      "text/plain": [
       "(array([1], dtype=int64),)"
      ]
     },
     "execution_count": 7,
     "metadata": {},
     "output_type": "execute_result"
    }
   ],
   "source": [
    "def compare_two_array(a: np.array, b: np.array) -> np.array:\n",
    "    return np.where(a == b)\n",
    "\n",
    "\n",
    "compare_two_array(np.array([7, 8, 9]), np.array([9, 8, 7]))\n"
   ]
  },
  {
   "cell_type": "code",
   "execution_count": null,
   "metadata": {},
   "outputs": [],
   "source": [
    "# Készíts egy olyan függvényt, ami vissza adja string-ként a megadott array dimenzióit:\n",
    "# Be: [[1,2,3], [4,5,6]]\n",
    "# Ki: \"sor: 2, oszlop: 3, melyseg: 1\"\n",
    "# get_array_shape()\n",
    "# 3D-vel még műküdnie kell!, "
   ]
  },
  {
   "cell_type": "code",
   "execution_count": null,
   "metadata": {},
   "outputs": [],
   "source": [
    "def get_array_shape(arr: np.array) -> str:\n",
    "    shape = np.shape(arr)\n",
    "    return f\"sor: {shape[0]}, oszlop: {shape[1]}, melyseg: {shape[2] if len(shape) == 3 else 1}\"\n",
    "\n",
    "\n",
    "get_array_shape([[1, 2, 3], [4, 5, 6]])\n"
   ]
  },
  {
   "cell_type": "code",
   "execution_count": null,
   "metadata": {},
   "outputs": [],
   "source": [
    "# Készíts egy olyan függvényt, aminek segítségével elő tudod állítani egy neurális hálózat tanításához szükséges pred-et egy numpy array-ből. \n",
    "# Bementként add meg az array-t, illetve hogy mennyi class-od van. Kimenetként pedig adjon vissza egy 2d array-t, ahol a sorok az egyes elemek. Minden nullákkal teli legyen és csak ott álljon egyes, ahol a bementi tömb megjelöli. \n",
    "# Pl. ha 1 van a bemeneten és 4 classod van, akkor az adott sorban az array-ban a [1] helyen álljon egy 1-es, a többi helyen pedig 0.\n",
    "# Be: [1, 2, 0, 3], 4\n",
    "# Ki: [[0,1,0,0], [0, 0, 1, 0], [1, 0, 0, 0], [0, 0, 0, 1]]\n",
    "# encode_Y()"
   ]
  },
  {
   "cell_type": "code",
   "execution_count": null,
   "metadata": {},
   "outputs": [],
   "source": [
    "def encode_Y(y: np.array, num_classes: np.array) -> np.array:\n",
    "    encoded = np.zeros((len(y), num_classes))\n",
    "    encoded[np.arange(len(y)), y] = 1\n",
    "    return encoded\n",
    "\n",
    "\n",
    "encode_Y([1, 2, 0, 3], 4)\n"
   ]
  },
  {
   "cell_type": "code",
   "execution_count": null,
   "metadata": {},
   "outputs": [],
   "source": [
    "# A fenti feladatnak valósítsd meg a kiértékelését. Adj meg a 2d array-t és adj vissza a decodolt változatát\n",
    "# Be:  [[0,1,0,0], [0, 0, 1, 0], [1, 0, 0, 0], [0, 0, 0, 1]]\n",
    "# Ki:  [1, 2, 0, 3]\n",
    "# decode_Y()"
   ]
  },
  {
   "cell_type": "code",
   "execution_count": null,
   "metadata": {},
   "outputs": [],
   "source": [
    "def decode_Y(encoded_Y: np.array) -> np.array:\n",
    "    return np.nonzero(encoded_Y)[1]\n",
    "\n",
    "\n",
    "decode_Y([[0, 1, 0, 0], [0, 0, 1, 0], [1, 0, 0, 0], [0, 0, 0, 1]])\n"
   ]
  },
  {
   "cell_type": "code",
   "execution_count": null,
   "metadata": {},
   "outputs": [],
   "source": [
    "# Készíts egy olyan függvényt, ami képes kiértékelni egy neurális háló eredményét! Bemenetként egy listát és egy array-t és adja vissza azt az elemet, aminek a legnagyobb a valószínüsége(értéke) a listából.\n",
    "# Be: ['alma', 'körte', 'szilva'], [0.2, 0.2, 0.6]. # Az ['alma', 'körte', 'szilva'] egy lista!\n",
    "# Ki: 'szilva'\n",
    "# eval_classification()"
   ]
  },
  {
   "cell_type": "code",
   "execution_count": null,
   "metadata": {},
   "outputs": [],
   "source": [
    "def eval_classification(labels: list, predictions: np.array) -> str:\n",
    "    return labels[np.argmax(predictions)]\n",
    "\n",
    "\n",
    "eval_classification(['alma', 'körte', 'szilva'], [0.2, 0.2, 0.6])\n"
   ]
  },
  {
   "cell_type": "code",
   "execution_count": null,
   "metadata": {},
   "outputs": [],
   "source": [
    "# Készíts egy olyan függvényt, ahol az 1D array-ben a páratlan számokat -1-re cseréli\n",
    "# Be: [1,2,3,4,5,6]\n",
    "# Ki: [-1,2,-1,4,-1,6]\n",
    "# replace_odd_numbers()"
   ]
  },
  {
   "cell_type": "code",
   "execution_count": null,
   "metadata": {},
   "outputs": [],
   "source": [
    "def replace_odd_numbers(arr: np.array) -> np.array:\n",
    "    arr[arr % 2 != 0] = -1\n",
    "    return arr\n",
    "\n",
    "\n",
    "replace_odd_numbers([1, 2, 3, 4, 5, 6])\n"
   ]
  },
  {
   "cell_type": "code",
   "execution_count": null,
   "metadata": {},
   "outputs": [],
   "source": [
    "# Készíts egy olyan függvényt, ami egy array értékeit -1 és 1-re változtatja, attól függően, hogy az adott elem nagyobb vagy kisebb a paraméterként megadott számnál.\n",
    "# Ha a szám kisebb mint a megadott érték, akkor -1, ha nagyobb vagy egyenlő, akkor pedig 1.\n",
    "# Be: [1, 2, 5, 0], 2\n",
    "# Ki: [-1, 1, 1, -1]\n",
    "# replace_by_value()"
   ]
  },
  {
   "cell_type": "code",
   "execution_count": null,
   "metadata": {},
   "outputs": [],
   "source": [
    "def replace_by_value(arr: np.array, val: int) -> np.array:\n",
    "    return np.where(arr >= val, 1, -1)\n",
    "\n",
    "\n",
    "replace_by_value([1, 2, 5, 0], 2)\n"
   ]
  },
  {
   "cell_type": "code",
   "execution_count": null,
   "metadata": {},
   "outputs": [],
   "source": [
    "# Készíts egy olyan függvényt, ami egy array értékeit összeszorozza és az eredményt visszaadja\n",
    "# Be: [1,2,3,4]\n",
    "# Ki: 24\n",
    "# array_multi()\n",
    "# Ha több dimenziós a tömb, akkor az egész tömb elemeinek szorzatával térjen vissza"
   ]
  },
  {
   "cell_type": "code",
   "execution_count": null,
   "metadata": {},
   "outputs": [],
   "source": [
    "def array_multi(arr: np.array) -> int:\n",
    "    return np.prod(arr)\n",
    "\n",
    "\n",
    "array_multi([1, 2, 3, 4])\n"
   ]
  },
  {
   "cell_type": "code",
   "execution_count": null,
   "metadata": {},
   "outputs": [],
   "source": [
    "# Készíts egy olyan függvényt, ami egy 2D array értékeit összeszorozza és egy olyan array-el tér vissza, aminek az elemei a soroknak a szorzata\n",
    "# Be: [[1, 2], [3, 4]]\n",
    "# Ki: [2, 12]\n",
    "# array_multi_2d()"
   ]
  },
  {
   "cell_type": "code",
   "execution_count": null,
   "metadata": {},
   "outputs": [],
   "source": [
    "def array_multi_2d(arr: np.array) -> np.array:\n",
    "    return np.prod(arr, axis=1)\n",
    "\n",
    "\n",
    "array_multi_2d([[1, 2], [3, 4]])\n"
   ]
  },
  {
   "cell_type": "code",
   "execution_count": null,
   "metadata": {},
   "outputs": [],
   "source": [
    "# Készíts egy olyan függvényt, amit egy meglévő numpy array-hez készít egy bordert nullásokkal. Bementként egy array-t várjon és kimenetként egy array jelenjen meg aminek van border-je\n",
    "# Be: [[1,2],[3,4]]\n",
    "# Ki: [[0,0,0,0],[0,1,2,0],[0,3,4,0],[0,0,0,0]]\n",
    "# add_border()\n"
   ]
  },
  {
   "cell_type": "code",
   "execution_count": null,
   "metadata": {},
   "outputs": [],
   "source": [
    "def add_border(arr: np.array) -> np.array:\n",
    "    rows, cols = arr.shape\n",
    "    new_rows, new_cols = rows + 2, cols + 2\n",
    "    new_arr = np.zeros((new_rows, new_cols))\n",
    "    new_arr[1:-1, 1:-1] = arr\n",
    "    return new_arr\n",
    "\n",
    "\n",
    "add_border([[1, 2], [3, 4]])\n"
   ]
  },
  {
   "cell_type": "code",
   "execution_count": null,
   "metadata": {},
   "outputs": [],
   "source": [
    "# A KÖTVETKEZŐ FELADATOKHOZ NÉZZÉTEK MEG A NUMPY DATA TYPE-JÁT!"
   ]
  },
  {
   "cell_type": "code",
   "execution_count": null,
   "metadata": {},
   "outputs": [],
   "source": [
    "# Készíts egy olyan függvényt ami két dátum között felsorolja az összes napot és ezt adja vissza egy numpy array-ben. A fgv ként str vár paraméterként 'YYYY-MM' formában.\n",
    "# Be: '2023-03', '2023-04'  # mind a kettő paraméter str.\n",
    "# Ki: ['2023-03-01', '2023-03-02', .. , '2023-03-31',]\n",
    "# list_days()"
   ]
  },
  {
   "cell_type": "code",
   "execution_count": 9,
   "metadata": {},
   "outputs": [
    {
     "data": {
      "text/plain": [
       "array(['2023-03-01', '2023-03-02', '2023-03-03', '2023-03-04',\n",
       "       '2023-03-05', '2023-03-06', '2023-03-07', '2023-03-08',\n",
       "       '2023-03-09', '2023-03-10', '2023-03-11', '2023-03-12',\n",
       "       '2023-03-13', '2023-03-14', '2023-03-15', '2023-03-16',\n",
       "       '2023-03-17', '2023-03-18', '2023-03-19', '2023-03-20',\n",
       "       '2023-03-21', '2023-03-22', '2023-03-23', '2023-03-24',\n",
       "       '2023-03-25', '2023-03-26', '2023-03-27', '2023-03-28',\n",
       "       '2023-03-29', '2023-03-30', '2023-03-31'], dtype='<U28')"
      ]
     },
     "execution_count": 9,
     "metadata": {},
     "output_type": "execute_result"
    }
   ],
   "source": [
    "def list_days(start_date: str, end_date: str) -> np.array:\n",
    "    start = np.datetime64(start_date)\n",
    "    end = np.datetime64(end_date)\n",
    "    days = np.arange(start, end, np.timedelta64(1, 'D'))\n",
    "    return np.array(days, dtype='datetime64[D]').astype(str)\n",
    "\n",
    "\n",
    "list_days('2023-03', '2023-04')\n"
   ]
  },
  {
   "cell_type": "code",
   "execution_count": null,
   "metadata": {},
   "outputs": [],
   "source": [
    "# Írj egy fügvényt ami vissza adja az aktuális dátumot az alábbi formában: YYYY-MM-DD. Térjen vissza egy 'numpy.datetime64' típussal.\n",
    "# Be:\n",
    "# Ki: 2017-03-24\n",
    "# get_act_date()"
   ]
  },
  {
   "cell_type": "code",
   "execution_count": null,
   "metadata": {},
   "outputs": [],
   "source": [
    "def get_act_date() -> np.datetime64:\n",
    "    return np.datetime64('today')\n",
    "\n",
    "\n",
    "get_act_date()\n"
   ]
  },
  {
   "cell_type": "code",
   "execution_count": null,
   "metadata": {},
   "outputs": [],
   "source": [
    "# Írj egy olyan függvényt ami visszadja, hogy mennyi másodperc telt el 1970 január 01. 00:02:00 óta. Int-el térjen vissza\n",
    "# Be: \n",
    "# Ki: másodpercben az idó, int-é kasztolva\n",
    "# sec_from_1970()"
   ]
  },
  {
   "cell_type": "code",
   "execution_count": null,
   "metadata": {},
   "outputs": [],
   "source": [
    "def sec_from_1970():\n",
    "    now = np.datetime64('now')\n",
    "    delta = now - np.datetime64('1970-01-01T00:02:00')\n",
    "    return int(delta / np.timedelta64(1, 's'))\n",
    "\n",
    "\n",
    "sec_from_1970()\n"
   ]
  }
 ],
 "metadata": {
  "kernelspec": {
   "display_name": "Python 3",
   "language": "python",
   "name": "python3"
  },
  "language_info": {
   "codemirror_mode": {
    "name": "ipython",
    "version": 3
   },
   "file_extension": ".py",
   "mimetype": "text/x-python",
   "name": "python",
   "nbconvert_exporter": "python",
   "pygments_lexer": "ipython3",
   "version": "3.10.10"
  },
  "orig_nbformat": 4
 },
 "nbformat": 4,
 "nbformat_minor": 2
}
